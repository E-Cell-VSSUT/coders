{
  "nbformat": 4,
  "nbformat_minor": 0,
  "metadata": {
    "colab": {
      "name": "Untitled4.ipynb",
      "provenance": []
    },
    "kernelspec": {
      "name": "python3",
      "display_name": "Python 3"
    },
    "language_info": {
      "name": "python"
    }
  },
  "cells": [
    {
      "cell_type": "code",
      "metadata": {
        "id": "qXESSuhp-hoq"
      },
      "source": [
        "# Python program for implementation of Radix Sort\n",
        "\t\n",
        "# A function to do counting sort of arr[] according to\n",
        "# the digit represented by exp.\n",
        "def countingSort(arr, exp1):\n",
        "\t\n",
        "\tn = len(arr)\n",
        "\t\n",
        "\t# The output array elements that will have sorted arr\n",
        "\toutput = [0] * (n)\n",
        "\t\n",
        "\t# initialize count array as 0\n",
        "\tcount = [0] * (10)\n",
        "\t\n",
        "\t# Store count of occurrences in count[]\n",
        "\tfor i in range(0, n):\n",
        "\t\tindex = (arr[i]/exp1)\n",
        "\t\tcount[int((index)%10)] += 1\n",
        "\t\n",
        "\t# Change count[i] so that count[i] now contains actual\n",
        "\t# position of this digit in output array\n",
        "\tfor i in range(1,10):\n",
        "\t\tcount[i] += count[i-1]\n",
        "\t\n",
        "\t# Build the output array\n",
        "\ti = n-1\n",
        "\twhile i>=0:\n",
        "\t\tindex = (arr[i]/exp1)\n",
        "\t\toutput[ count[ int((index)%10) ] - 1] = arr[i]\n",
        "\t\tcount[int((index)%10)] -= 1\n",
        "\t\ti -= 1\n",
        "\t\n",
        "\t# Copying the output array to arr[],\n",
        "\t# so that arr now contains sorted numbers\n",
        "\ti = 0\n",
        "\tfor i in range(0,len(arr)):\n",
        "\t\tarr[i] = output[i]\n",
        "\n",
        "# Method to do Radix Sort\n",
        "def radixSort(arr):\n",
        "\n",
        "\t# Find the maximum number to know number of digits\n",
        "\tmax1 = max(arr)\n",
        "\n",
        "\t# Do counting sort for every digit. Note that instead\n",
        "\t# of passing digit number, exp is passed. exp is 10^i\n",
        "\t# where i is current digit number\n",
        "\texp = 1\n",
        "\twhile max1/exp > 0:\n",
        "\t\tcountingSort(arr,exp)\n",
        "\t\texp *= 10\n",
        "\n",
        "# Driver code to test above\n",
        "arr = [ 170, 45, 75, 90, 802, 24, 2, 66]\n",
        "radixSort(arr)\n",
        "\n",
        "for i in range(len(arr)):\n",
        "\tprint(arr[i]),\n",
        "\n",
        "# This code is contributed by Mohit Kumra\n",
        "# This code is updated by Sudeep Saxena(saxenasudeepcse@gmail.com) on July 9, 2020\n"
      ],
      "execution_count": null,
      "outputs": []
    }
  ]
}