{
  "nbformat": 4,
  "nbformat_minor": 0,
  "metadata": {
    "colab": {
      "name": "Untitled3.ipynb",
      "provenance": []
    },
    "kernelspec": {
      "name": "python3",
      "display_name": "Python 3"
    },
    "language_info": {
      "name": "python"
    }
  },
  "cells": [
    {
      "cell_type": "code",
      "metadata": {
        "id": "1w-GicBu9AkU"
      },
      "source": [
        "#Python program to print topological sorting of a DAG\n",
        "from collections import defaultdict\n",
        "\n",
        "#Class to represent a graph\n",
        "class Graph:\n",
        "\tdef __init__(self,vertices):\n",
        "\t\tself.graph = defaultdict(list) #dictionary containing adjacency List\n",
        "\t\tself.V = vertices #No. of vertices\n",
        "\n",
        "\t# function to add an edge to graph\n",
        "\tdef addEdge(self,u,v):\n",
        "\t\tself.graph[u].append(v)\n",
        "\n",
        "\t# A recursive function used by topologicalSort\n",
        "\tdef topologicalSortUtil(self,v,visited,stack):\n",
        "\n",
        "\t\t# Mark the current node as visited.\n",
        "\t\tvisited[v] = True\n",
        "\n",
        "\t\t# Recur for all the vertices adjacent to this vertex\n",
        "\t\tfor i in self.graph[v]:\n",
        "\t\t\tif visited[i] == False:\n",
        "\t\t\t\tself.topologicalSortUtil(i,visited,stack)\n",
        "\n",
        "\t\t# Push current vertex to stack which stores result\n",
        "\t\tstack.insert(0,v)\n",
        "\n",
        "\t# The function to do Topological Sort. It uses recursive\n",
        "\t# topologicalSortUtil()\n",
        "\tdef topologicalSort(self):\n",
        "\t\t# Mark all the vertices as not visited\n",
        "\t\tvisited = [False]*self.V\n",
        "\t\tstack =[]\n",
        "\n",
        "\t\t# Call the recursive helper function to store Topological\n",
        "\t\t# Sort starting from all vertices one by one\n",
        "\t\tfor i in range(self.V):\n",
        "\t\t\tif visited[i] == False:\n",
        "\t\t\t\tself.topologicalSortUtil(i,visited,stack)\n",
        "\n",
        "\t\t# Print contents of stack\n",
        "\t\tprint stack\n",
        "\n",
        "g= Graph(6)\n",
        "g.addEdge(5, 2);\n",
        "g.addEdge(5, 0);\n",
        "g.addEdge(4, 0);\n",
        "g.addEdge(4, 1);\n",
        "g.addEdge(2, 3);\n",
        "g.addEdge(3, 1);\n",
        "\n",
        "print \"Following is a Topological Sort of the given graph\"\n",
        "g.topologicalSort()\n",
        "#This code is contributed by Neelam Yadav\n"
      ],
      "execution_count": null,
      "outputs": []
    }
  ]
}